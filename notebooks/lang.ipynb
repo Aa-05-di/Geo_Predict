{
 "cells": [
  {
   "cell_type": "code",
   "execution_count": 2,
   "id": "2430cfbb",
   "metadata": {},
   "outputs": [
    {
     "name": "stdout",
     "output_type": "stream",
     "text": [
      "The provided text describes a planned change to Meta's content moderation policies, replacing third-party fact-checkers with a community-based system.  While the sentiment score (-0.2924) suggests a slightly negative tone regarding the situation (likely due to the phrasing implying broken promises), it's impossible to definitively say how this will affect Meta's stock price based solely on this information.\n",
      "\n",
      "Here's why:\n",
      "\n",
      "* **Uncertainty of impact:** The success and market reception of the \"community notes\" system are unknown.  It could be viewed positively by investors if it leads to less censorship and increased user engagement, or negatively if it results in increased misinformation and regulatory scrutiny.\n",
      "* **Other factors:** Stock prices are influenced by numerous factors beyond a single policy change.  Economic conditions, competitor actions, overall market trends, and earnings reports all play significant roles.\n",
      "* **Short-term vs. long-term:** The immediate market reaction might be negative due to the negative sentiment, but the long-term effect depends on the actual outcome of the policy change.\n",
      "\n",
      "**In conclusion:** While the news might cause some initial stock fluctuation, predicting the overall impact on Meta's stock price requires a much broader analysis considering all relevant factors and not just the sentiment of a single news snippet.\n"
     ]
    }
   ],
   "source": [
    "from langchain_google_genai import ChatGoogleGenerativeAI\n",
    "import os\n",
    "from dotenv import load_dotenv\n",
    "\n",
    "load_dotenv()\n",
    "os.environ[\"GOOGLE_API_KEY\"] = os.getenv(\"gem_key\")\n",
    "\n",
    "llm = ChatGoogleGenerativeAI(model=\"gemini-1.5-flash\", temperature=0.7)\n",
    "\n",
    "text=\"Despite Zuckerberg’s Promises, Facebook ‘Fact Checkers’ Continue Censoring Information About COVID-19 Vaccines. In early January 2025 Meta announced that it would be scrapping the use of its so-called ‘independent fact checkers’ on Facebook and Instagram, replacing them with a ‘community notes’ system similar to that now used on Elon Musk’s X platform. …The post Despi… Sentiment Score: -0.2924  based on this data check if it will affect stock\"\n",
    "\n",
    "response = llm.invoke(text)\n",
    "print(response.content)\n",
    "\n"
   ]
  },
  {
   "cell_type": "code",
   "execution_count": null,
   "id": "dfc099e4",
   "metadata": {},
   "outputs": [],
   "source": []
  }
 ],
 "metadata": {
  "kernelspec": {
   "display_name": "Python (tf-macos)",
   "language": "python",
   "name": "tf-macos"
  },
  "language_info": {
   "codemirror_mode": {
    "name": "ipython",
    "version": 3
   },
   "file_extension": ".py",
   "mimetype": "text/x-python",
   "name": "python",
   "nbconvert_exporter": "python",
   "pygments_lexer": "ipython3",
   "version": "3.9.21"
  }
 },
 "nbformat": 4,
 "nbformat_minor": 5
}
