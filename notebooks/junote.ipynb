{
 "cells": [
  {
   "cell_type": "code",
   "execution_count": null,
   "id": "0520850b",
   "metadata": {},
   "outputs": [],
   "source": [
    "import nltk\n",
    "import requests\n",
    "nltk.download('vader_lexicon')\n",
    "from nltk.sentiment import SentimentIntensityAnalyzer\n",
    "sia = SentimentIntensityAnalyzer()\n",
    "NEWS_API_KEY = \"60697fb4390d400b83ef934d1c2d0dc1\""
   ]
  },
  {
   "cell_type": "code",
   "execution_count": null,
   "id": "beab3fcd",
   "metadata": {},
   "outputs": [],
   "source": [
    "def fetch_news():\n",
    "    url = f\"https://newsapi.org/v2/everything?q=geopolitics&language=en&pageSize=10&sortBy=publishedAt&apiKey={NEWS_API_KEY}\"\n",
    "    response=requests.get(url)\n",
    "    data=response.json()\n",
    "    articles=data.get(\"articles\",[])\n",
    "    news = [article[\"title\"] + \". \" + str(article[\"description\"]) for article in articles]\n",
    "    return news\n"
   ]
  },
  {
   "cell_type": "code",
   "execution_count": null,
   "id": "9f65deb1",
   "metadata": {},
   "outputs": [],
   "source": [
    "\n",
    "\n",
    "def analyze_sentiment(news_list):\n",
    "    results=[]\n",
    "    for news in news_list:\n",
    "        sentiment=sia.polarity_scores(news)\n",
    "        results.append({\n",
    "            \"news\":news,\n",
    "            \"sentiment_score\":sentiment[\"compound\"]\n",
    "        })\n",
    "    return results"
   ]
  },
  {
   "cell_type": "code",
   "execution_count": null,
   "id": "c9112d3f",
   "metadata": {},
   "outputs": [],
   "source": [
    "news=fetch_news()\n",
    "sentiment_result=analyze_sentiment(news)\n",
    "\n",
    "for item in sentiment_result:\n",
    "    print(f\"##{item['news']}\\n  -> Sentiment Score: {item['sentiment_score']}\\n\")\n",
    "    "
   ]
  },
  {
   "cell_type": "code",
   "execution_count": null,
   "id": "7a9f244a",
   "metadata": {},
   "outputs": [],
   "source": []
  }
 ],
 "metadata": {
  "kernelspec": {
   "display_name": "Python (tf-macos)",
   "language": "python",
   "name": "tf-macos"
  },
  "language_info": {
   "codemirror_mode": {
    "name": "ipython",
    "version": 3
   },
   "file_extension": ".py",
   "mimetype": "text/x-python",
   "name": "python",
   "nbconvert_exporter": "python",
   "pygments_lexer": "ipython3",
   "version": "3.9.21"
  }
 },
 "nbformat": 4,
 "nbformat_minor": 5
}
