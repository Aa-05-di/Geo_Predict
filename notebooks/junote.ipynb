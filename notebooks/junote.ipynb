{
 "cells": [
  {
   "cell_type": "code",
   "execution_count": 36,
   "id": "0520850b",
   "metadata": {},
   "outputs": [
    {
     "name": "stderr",
     "output_type": "stream",
     "text": [
      "[nltk_data] Downloading package vader_lexicon to\n",
      "[nltk_data]     /Users/aadi/nltk_data...\n",
      "[nltk_data]   Package vader_lexicon is already up-to-date!\n"
     ]
    }
   ],
   "source": [
    "import nltk\n",
    "import requests\n",
    "nltk.download('vader_lexicon')\n",
    "from nltk.sentiment import SentimentIntensityAnalyzer\n",
    "sia = SentimentIntensityAnalyzer()\n",
    "NEWS_API_KEY = \"60697fb4390d400b83ef934d1c2d0dc1\""
   ]
  },
  {
   "cell_type": "code",
   "execution_count": 37,
   "id": "beab3fcd",
   "metadata": {},
   "outputs": [],
   "source": [
    "def fetch_news():\n",
    "    url = f\"https://newsapi.org/v2/everything?q=geopolitics&language=en&pageSize=10&sortBy=publishedAt&apiKey={NEWS_API_KEY}\"\n",
    "    response=requests.get(url)\n",
    "    data=response.json()\n",
    "    articles=data.get(\"articles\",[])\n",
    "    news = [article[\"title\"] + \". \" + str(article[\"description\"]) for article in articles]\n",
    "    return news\n"
   ]
  },
  {
   "cell_type": "code",
   "execution_count": 38,
   "id": "9f65deb1",
   "metadata": {},
   "outputs": [],
   "source": [
    "\n",
    "\n",
    "def analyze_sentiment(news_list):\n",
    "    results=[]\n",
    "    for news in news_list:\n",
    "        sentiment=sia.polarity_scores(news)\n",
    "        results.append({\n",
    "            \"news\":news,\n",
    "            \"sentiment_score\":sentiment[\"compound\"]\n",
    "        })\n",
    "    return results"
   ]
  },
  {
   "cell_type": "code",
   "execution_count": 39,
   "id": "c9112d3f",
   "metadata": {},
   "outputs": [
    {
     "name": "stdout",
     "output_type": "stream",
     "text": [
      "##JPMorgan CEO Jamie Dimon warns the economy faces 'considerable turbulence'. JPMorgan CEO Jamie Dimon said the US economy faces several crosswinds as the banking giant posted strong growth in revenue and profits last quarter.\n",
      "  -> Sentiment Score: 0.8126\n",
      "\n",
      "##JPMorgan CEO Issues Economy Warning: 'Considerable Turbulence'. Jamie Dimon issued a warning over the \"potential negatives of tariffs and 'trade wars'\".\n",
      "  -> Sentiment Score: -0.5859\n",
      "\n",
      "##As Weather Warms In Ukraine, Combatants Step Up Battlefield Tempo. Ukrainian forces tried to seize the battlefield initiative in multiple locations over the winter while struggling to avoid a rout as they pulled out of Kursk, the Russian region they invaded last summer to great fanfare.\n",
      "  -> Sentiment Score: -0.4588\n",
      "\n",
      "##India and the UAE is a partnership of global consequence: Zubin Karkaria, Founder, VFS Global Group. India and the UAE's relationship has evolved into a strategic partnership, marked by the Comprehensive Economic Partnership Agreement, boosting bilateral trade beyond $85 billion. This collaboration extends beyond trade and energy to encompass technology, sus…\n",
      "  -> Sentiment Score: 0.8481\n",
      "\n",
      "##India and the UAE is a partnership of global consequence: Zubin Karkaria, Founder, VFS Global Group. India and the UAE's relationship has evolved into a strategic partnership, marked by the Comprehensive Economic Partnership Agreement, boosting bilateral trade beyond $85 billion. This collaboration extends beyond trade and energy to encompass technology, sus…\n",
      "  -> Sentiment Score: 0.8481\n",
      "\n",
      "##Our politicians are selling pixels not policy. It’s a threat to democracy in the TikTok election. For all the social media attention being lavished on younger Australians this election, they're still being treated like an afterthought.\n",
      "The post Our politicians are selling pixels not policy. It’s a threat to democracy in the TikTok election appeared first …\n",
      "  -> Sentiment Score: 0.7936\n",
      "\n",
      "##Two Ts of the moment: EAM Jaishankar flags tech's role in MAGA amid tariff turbulence. External Affairs Minister S Jaishankar addressed the Carnegie Global Tech Summit 2025, highlighting technology and tariffs as key forces shaping geopolitics amid a changed global landscape. He noted the United States' shifting approach under President Trump a…\n",
      "  -> Sentiment Score: 0.4215\n",
      "\n",
      "##Armed Forces must operate jointly & remain future-ready in today's ever-evolving multi-domain environment: Raksha Mantri at DSSC, Wellington. \"Armed Forces must operate jointly and remain future-ready in today's ever-evolving multi-domain environment where cyber, space & information warfare etc\n",
      "  -> Sentiment Score: -0.296\n",
      "\n"
     ]
    }
   ],
   "source": [
    "news=fetch_news()\n",
    "sentiment_result=analyze_sentiment(news)\n",
    "\n",
    "for item in sentiment_result:\n",
    "    print(f\"##{item['news']}\\n  -> Sentiment Score: {item['sentiment_score']}\\n\")\n",
    "    "
   ]
  },
  {
   "cell_type": "code",
   "execution_count": null,
   "id": "7a9f244a",
   "metadata": {},
   "outputs": [],
   "source": []
  }
 ],
 "metadata": {
  "kernelspec": {
   "display_name": "Python (tf-macos)",
   "language": "python",
   "name": "tf-macos"
  },
  "language_info": {
   "codemirror_mode": {
    "name": "ipython",
    "version": 3
   },
   "file_extension": ".py",
   "mimetype": "text/x-python",
   "name": "python",
   "nbconvert_exporter": "python",
   "pygments_lexer": "ipython3",
   "version": "3.9.21"
  }
 },
 "nbformat": 4,
 "nbformat_minor": 5
}
