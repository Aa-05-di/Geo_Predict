{
 "cells": [
  {
   "cell_type": "code",
   "execution_count": 18,
   "id": "0520850b",
   "metadata": {},
   "outputs": [
    {
     "name": "stderr",
     "output_type": "stream",
     "text": [
      "[nltk_data] Downloading package vader_lexicon to\n",
      "[nltk_data]     /Users/aadi/nltk_data...\n",
      "[nltk_data]   Package vader_lexicon is already up-to-date!\n"
     ]
    }
   ],
   "source": [
    "import nltk\n",
    "import requests\n",
    "import os\n",
    "from dotenv import load_dotenv\n",
    "nltk.download('vader_lexicon')\n",
    "from nltk.sentiment import SentimentIntensityAnalyzer\n",
    "sia = SentimentIntensityAnalyzer()\n",
    "load_dotenv()\n",
    "NEWS_API_KEY= os.getenv(\"news_key\")"
   ]
  },
  {
   "cell_type": "code",
   "execution_count": 19,
   "id": "beab3fcd",
   "metadata": {},
   "outputs": [],
   "source": [
    "def fetch_news():\n",
    "    url = f\"https://newsapi.org/v2/everything?q=geopolitics&language=en&pageSize=10&sortBy=publishedAt&apiKey={NEWS_API_KEY}\"\n",
    "    response=requests.get(url)\n",
    "    data=response.json()\n",
    "    articles=data.get(\"articles\",[])\n",
    "    news = [article[\"title\"] + \". \" + str(article[\"description\"]) for article in articles]\n",
    "    return news\n"
   ]
  },
  {
   "cell_type": "code",
   "execution_count": 20,
   "id": "9f65deb1",
   "metadata": {},
   "outputs": [],
   "source": [
    "\n",
    "\n",
    "def analyze_sentiment(news_list):\n",
    "    results=[]\n",
    "    for news in news_list:\n",
    "        sentiment=sia.polarity_scores(news)\n",
    "        results.append({\n",
    "            \"news\":news,\n",
    "            \"sentiment_score\":sentiment[\"compound\"]\n",
    "        })\n",
    "    return results"
   ]
  },
  {
   "cell_type": "code",
   "execution_count": 21,
   "id": "c9112d3f",
   "metadata": {},
   "outputs": [
    {
     "name": "stdout",
     "output_type": "stream",
     "text": [
      "##David McWilliams: ‘I’ve never seen anything like this economic chaos. Buckle up’. Punters and businesses have reacted to the past few weeks of chaos by becoming much less confident about the future\n",
      "  -> Sentiment Score: -0.7652\n",
      "\n",
      "##Joe Rogan Squirms As He’s Called Out For Legitimizing ‘Dangerous’ People With ‘S**t’ Ideas. Commentator Douglas Murray grilled the comedian about his “selection of guests,” considering Rogan has the “world’s No. 1 podcast.”\n",
      "  -> Sentiment Score: 0.1027\n",
      "\n",
      "##U.S.–ROK Cooperation Can Shape the Nuclear Energy Market and Strengthen Nonproliferation. The relationship between the United States and South Korea has become a strategic necessity for sustaining leadership in the nuclear energy market and preserving the integrity of the global nonproliferation regime. Nuclear geopolitics has been in crisis. The …\n",
      "  -> Sentiment Score: 0.7003\n",
      "\n",
      "##Trump's Financial Shakedown: Top Banker Claims America Facing 'Considerable Turbulences' and 'Trade Wars' as Citizens Await Unpredictable President's Next Tariffs Move. JPMorgan Chase CEO Jamie Dimon is calling out Donald Trump's tariff-obsessed decisions, claiming the damage has already been done to America.\n",
      "  -> Sentiment Score: -0.7783\n",
      "\n",
      "##Dow up over 600 pts at close with geopolitics in focus. Wall Street equities traded with gains at the closing bell on Friday, ending a tumultuous week for the markets. Investors' focus shifted from the trade row between the United States and China to geopo...\n",
      "  -> Sentiment Score: 0.6369\n",
      "\n",
      "##Geopolitics Just Cranked Up Your Threat Model, Again. Here’s What Cyber Pros Need to Know. If it feels like your entire cybersecurity program is once again operating on a geopolitical fault line, you're not imagining things.The intersection of global politics and cybersecurity has grown a whole lot messier — and more consequential — in recent weeks…\n",
      "  -> Sentiment Score: -0.5574\n",
      "\n",
      "##China’s Tariff Retaliation, What’s Next For Trump, Apple, And The Job Market. There’s a case for cautious optimism. Tariffs could push companies to innovate, reducing reliance on China and shaky global supply chains.\n",
      "  -> Sentiment Score: 0.6597\n",
      "\n",
      "##‘Authority Matters!’ Douglas Murray Goes Off on Dave Smith for Throwing ‘Out a Lot of Sh*t’ in Heated Joe Rogan Debate. \"I feel you've opened the door to quite a lot of people who've now got a big platform who have been throwing out counter-historical stuff of a very dangerous kind,” Murray hit back.\n",
      "The post ‘Authority Matters!’ Douglas Murray Goes Off on Dave Smith for Throw…\n",
      "  -> Sentiment Score: -0.6094\n",
      "\n",
      "##Jamie Dimon says U.S. economy faces \"considerable turbulence\". JPMorgan CEO Jamie Dimon warns that tariffs are likely to boost inflation, while urging the Trump administration to strike trade deals.\n",
      "  -> Sentiment Score: 0.2023\n",
      "\n",
      "##JPMorgan Credit and Debit Volumes Slow as Reserve for Card Losses Grows. For J.P. Morgan, caution abounds as the bank increased loan loss provisions, designed to cover possible loan losses amid economic turbulence. Management discussed on a conference call Friday (April 11) discussing first-quarter earnings that at the moment, cre…\n",
      "  -> Sentiment Score: -0.4588\n",
      "\n"
     ]
    }
   ],
   "source": [
    "news=fetch_news()\n",
    "sentiment_result=analyze_sentiment(news)\n",
    "\n",
    "for item in sentiment_result:\n",
    "    print(f\"##{item['news']}\\n  -> Sentiment Score: {item['sentiment_score']}\\n\")\n",
    "    "
   ]
  },
  {
   "cell_type": "code",
   "execution_count": 22,
   "id": "7a9f244a",
   "metadata": {},
   "outputs": [],
   "source": [
    "from langchain_google_genai import ChatGoogleGenerativeAI\n",
    "import os\n",
    "from dotenv import load_dotenv\n",
    "\n",
    "load_dotenv()\n",
    "os.environ[\"GOOGLE_API_KEY\"] = os.getenv(\"gem_key\")\n",
    "\n",
    "llm = ChatGoogleGenerativeAI(model=\"gemini-2.0-flash-lite-preview-02-05\", temperature=0.6)"
   ]
  },
  {
   "cell_type": "code",
   "execution_count": 23,
   "id": "ed90fa9b",
   "metadata": {},
   "outputs": [],
   "source": [
    "def get_llm_relevance(news_text):\n",
    "    prompt=f\"Is the following news article likely to influence stock markets?If yes,state yes and explain how.\\n\\nArticle:{news_text}\"\n",
    "    response=llm.invoke(prompt)\n",
    "    return response.content.strip()"
   ]
  },
  {
   "cell_type": "code",
   "execution_count": 24,
   "id": "6c91add5",
   "metadata": {},
   "outputs": [],
   "source": [
    "def filter(news_list):\n",
    "    relevent_articles=[]\n",
    "    for article in news_list:\n",
    "        relevance_score=get_llm_relevance(article)\n",
    "        if \"yes\" in relevance_score.lower():\n",
    "            relevent_articles.append(article)\n",
    "    return relevent_articles"
   ]
  },
  {
   "cell_type": "code",
   "execution_count": 25,
   "id": "59c897d1",
   "metadata": {},
   "outputs": [],
   "source": [
    "import pandas as pd\n",
    "from datetime import datetime"
   ]
  },
  {
   "cell_type": "code",
   "execution_count": 28,
   "id": "835b2d42",
   "metadata": {},
   "outputs": [],
   "source": [
    "from statistics import mode\n",
    "\n",
    "\n",
    "def process_and_save(filename=\"sentiment.csv\"):\n",
    "    news_list=fetch_news()\n",
    "    relevant_articles=filter(news_list)\n",
    "\n",
    "    data=[]\n",
    "\n",
    "    for news in relevant_articles:\n",
    "        sentiment=sia.polarity_scores(news)\n",
    "        relevance_explanation=get_llm_relevance(news)\n",
    "\n",
    "        data.append({\n",
    "            \"timestamp\":datetime.now().isoformat(),\n",
    "            \"article\":news,\n",
    "            \"sentiment_score\":sentiment[\"compound\"],\n",
    "            \"label\":\"Positive\" if sentiment[\"compound\"]>0.2 else \"Negative\",\n",
    "            \"explanation\":relevance_explanation\n",
    "        })\n",
    "\n",
    "    df=pd.DataFrame(data)\n",
    "\n",
    "    writer_header=not os.path.exists(filename)\n",
    "    df.to_csv(filename,mode='a',index=False,header=writer_header)"
   ]
  },
  {
   "cell_type": "code",
   "execution_count": 29,
   "id": "d0f2234c",
   "metadata": {},
   "outputs": [],
   "source": [
    "process_and_save()"
   ]
  },
  {
   "cell_type": "code",
   "execution_count": null,
   "id": "d7248543",
   "metadata": {},
   "outputs": [],
   "source": []
  }
 ],
 "metadata": {
  "kernelspec": {
   "display_name": "Python (tf-macos)",
   "language": "python",
   "name": "tf-macos"
  },
  "language_info": {
   "codemirror_mode": {
    "name": "ipython",
    "version": 3
   },
   "file_extension": ".py",
   "mimetype": "text/x-python",
   "name": "python",
   "nbconvert_exporter": "python",
   "pygments_lexer": "ipython3",
   "version": "3.9.21"
  }
 },
 "nbformat": 4,
 "nbformat_minor": 5
}
