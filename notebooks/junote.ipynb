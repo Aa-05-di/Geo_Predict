{
 "cells": [
  {
   "cell_type": "code",
   "execution_count": 52,
   "id": "0520850b",
   "metadata": {},
   "outputs": [
    {
     "name": "stderr",
     "output_type": "stream",
     "text": [
      "[nltk_data] Downloading package vader_lexicon to\n",
      "[nltk_data]     /Users/aadi/nltk_data...\n",
      "[nltk_data]   Package vader_lexicon is already up-to-date!\n"
     ]
    }
   ],
   "source": [
    "import nltk\n",
    "import requests\n",
    "nltk.download('vader_lexicon')\n",
    "from nltk.sentiment import SentimentIntensityAnalyzer\n",
    "sia = SentimentIntensityAnalyzer()\n",
    "NEWS_API_KEY = \"60697fb4390d400b83ef934d1c2d0dc1\""
   ]
  },
  {
   "cell_type": "code",
   "execution_count": 53,
   "id": "beab3fcd",
   "metadata": {},
   "outputs": [],
   "source": [
    "def fetch_news():\n",
    "    url = f\"https://newsapi.org/v2/everything?q=geopolitics&language=en&pageSize=10&sortBy=publishedAt&apiKey={NEWS_API_KEY}\"\n",
    "    response=requests.get(url)\n",
    "    data=response.json()\n",
    "    articles=data.get(\"articles\",[])\n",
    "    news = [article[\"title\"] + \". \" + str(article[\"description\"]) for article in articles]\n",
    "    return news\n"
   ]
  },
  {
   "cell_type": "code",
   "execution_count": 54,
   "id": "9f65deb1",
   "metadata": {},
   "outputs": [],
   "source": [
    "\n",
    "\n",
    "def analyze_sentiment(news_list):\n",
    "    results=[]\n",
    "    for news in news_list:\n",
    "        sentiment=sia.polarity_scores(news)\n",
    "        results.append({\n",
    "            \"news\":news,\n",
    "            \"sentiment_score\":sentiment[\"compound\"]\n",
    "        })\n",
    "    return results"
   ]
  },
  {
   "cell_type": "code",
   "execution_count": 55,
   "id": "c9112d3f",
   "metadata": {},
   "outputs": [
    {
     "name": "stdout",
     "output_type": "stream",
     "text": [
      "##FO° Talks: The New Geopolitical Landscape of the Middle East Writeup. Atul Singh: Welcome to FO° Talks. With me is Gary Grappo. He’s the former chair of Fair Observer. He has been an ambassador for the US. He has had a glorious diplomatic career spanning many decades in many countries. He speaks many languages, and few people h…\n",
      "  -> Sentiment Score: 0.8591\n",
      "\n",
      "##BlackRock CEO Larry Fink’s grim recession warning: Trump tariffs ‘beyond anything I could have imagined’. Trump’s decision on April 2 to impose the most severe tariffs in over a century triggered a global sell-off.\n",
      "  -> Sentiment Score: -0.9184\n",
      "\n",
      "##Despite Zuckerberg’s Promises, Facebook ‘Fact Checkers’ Continue Censoring Information About COVID-19 Vaccines. In early January 2025 Meta announced that it would be scrapping the use of its so-called ‘independent fact checkers’ on Facebook and Instagram, replacing them with a ‘community notes’ system similar to that now used on Elon Musk’s X platform. …\n",
      "The post Despi…\n",
      "  -> Sentiment Score: -0.2924\n",
      "\n",
      "##“Nobody Cares”: Ukrainian Army Commanders Treat Their Fighters “Like Cattle”. The Ukrainian Armed Forces’ high command treats soldiers like cattle, ignoring complaints and sending them to the most dangerous places, from where they never return, Verkhovna Rada (Parliament) deputy Anna Skorokhod said in an interview with local media. Yet…\n",
      "  -> Sentiment Score: -0.5849\n",
      "\n",
      "##Farmer Who Voted for Trump Begs Him to End Trade War as He 'Feels the Pain'. Trump's tariffs on China may have major implications for soybean farmers who export the crop to Beijing.\n",
      "  -> Sentiment Score: -0.5994\n",
      "\n",
      "##Examining the Geopolitics of Gas in U.S.-Russia Negotiations. The geopolitics of gas may be shifting again as the United States and Russia revisit LNG sanctions, Nord Stream 2 revival, pipeline transit deals, and potential joint projects. Over the past decade, the United States has consistently opposed Russian gas expor…\n",
      "  -> Sentiment Score: 0.6808\n",
      "\n",
      "##JPMorgan’s Jamie Dimon warns US faces ‘considerable turbulence’ amid trade war threats. “The economy is facing considerable turbulence (including geopolitics), with the potential positives of tax reform and deregulation and the potential negatives of tariffs and ‘trade wars’, ongoing sticky inflation, high fiscal deficits and still rather high a…\n",
      "  -> Sentiment Score: -0.5719\n",
      "\n",
      "##Trump Accuses Mexico of Water Treaty Violation. Politics, Geopolitics, & Conflict Trump has accused Mexico of violating a 1944 water treaty by failing to deliver enough water to Texas, harming farmers in the south and leading to the closure of a sugar mill. Trump is threatening tariffs over the issue, also…\n",
      "  -> Sentiment Score: -0.9716\n",
      "\n",
      "##JPMorgan Chase sees 'considerable turbulence' facing economy as profits rise. JPMorgan Chase CEO Jamie Dimon said Friday that US Treasury bonds remained a safe place in an unpredictable world as he warned of \"considerable turbulence\" facing the economy.\n",
      "  -> Sentiment Score: 0.6705\n",
      "\n",
      "##JPMorgan Chase CEO Jamie Dimon flags recession warning amid Donald Trump's tariffs: ‘Odds are at 50%’. Jamie Dimon has remained circumspect on the economy as corporate America navigated the fallout of President Donald Trump's tariffs. Over the past week, the Trump tariffs have have raised inflationary risks and fears of recession.\n",
      "  -> Sentiment Score: -0.8979\n",
      "\n"
     ]
    }
   ],
   "source": [
    "news=fetch_news()\n",
    "sentiment_result=analyze_sentiment(news)\n",
    "\n",
    "for item in sentiment_result:\n",
    "    print(f\"##{item['news']}\\n  -> Sentiment Score: {item['sentiment_score']}\\n\")\n",
    "    "
   ]
  },
  {
   "cell_type": "code",
   "execution_count": null,
   "id": "7a9f244a",
   "metadata": {},
   "outputs": [],
   "source": []
  }
 ],
 "metadata": {
  "kernelspec": {
   "display_name": "Python (tf-macos)",
   "language": "python",
   "name": "tf-macos"
  },
  "language_info": {
   "codemirror_mode": {
    "name": "ipython",
    "version": 3
   },
   "file_extension": ".py",
   "mimetype": "text/x-python",
   "name": "python",
   "nbconvert_exporter": "python",
   "pygments_lexer": "ipython3",
   "version": "3.9.21"
  }
 },
 "nbformat": 4,
 "nbformat_minor": 5
}
