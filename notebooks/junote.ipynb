{
 "cells": [
  {
   "cell_type": "code",
   "execution_count": null,
   "id": "0520850b",
   "metadata": {},
   "outputs": [],
   "source": [
    "import nltk\n",
    "import requests\n",
    "nltk.download('vader_lexicon')\n",
    "from nltk.sentiment import SentimentIntensityAnalyzer\n",
    "sia = SentimentIntensityAnalyzer()\n",
    "NEWS_API_KEY = \"60697fb4390d400b83ef934d1c2d0dc1\""
   ]
  },
  {
   "cell_type": "code",
   "execution_count": null,
   "id": "beab3fcd",
   "metadata": {},
   "outputs": [],
   "source": [
    "def fetch_news():\n",
    "    url = f\"https://newsapi.org/v2/everything?q=geopolitics&language=en&pageSize=10&sortBy=publishedAt&apiKey={NEWS_API_KEY}\"\n",
    "    response=requests.get(url)\n",
    "    data=response.json()\n",
    "    articles=data.get(\"articles\",[])\n",
    "    news = [article[\"title\"] + \". \" + str(article[\"description\"]) for article in articles]\n",
    "    return news\n"
   ]
  },
  {
   "cell_type": "code",
   "execution_count": null,
   "id": "9f65deb1",
   "metadata": {},
   "outputs": [],
   "source": [
    "\n",
    "\n",
    "def analyze_sentiment(news_list):\n",
    "    results=[]\n",
    "    for news in news_list:\n",
    "        sentiment=sia.polarity_scores(news)\n",
    "        results.append({\n",
    "            \"news\":news,\n",
    "            \"sentiment_score\":sentiment[\"compound\"]\n",
    "        })\n",
    "    return results"
   ]
  },
  {
   "cell_type": "code",
   "execution_count": null,
   "id": "c9112d3f",
   "metadata": {},
   "outputs": [],
   "source": [
    "news=fetch_news()\n",
    "sentiment_result=analyze_sentiment(news)\n",
    "\n",
    "for item in sentiment_result:\n",
    "    print(f\"##{item['news']}\\n  -> Sentiment Score: {item['sentiment_score']}\\n\")\n",
    "    "
   ]
  },
  {
   "cell_type": "code",
   "execution_count": 57,
   "id": "7a9f244a",
   "metadata": {},
   "outputs": [],
   "source": [
    "from langchain_google_genai import ChatGoogleGenerativeAI\n",
    "import os\n",
    "from dotenv import load_dotenv\n",
    "\n",
    "load_dotenv()\n",
    "os.environ[\"GOOGLE_API_KEY\"] = os.getenv(\"gem_key\")\n",
    "\n",
    "llm = ChatGoogleGenerativeAI(model=\"gemini-1.5-flash\", temperature=0.6)"
   ]
  },
  {
   "cell_type": "code",
   "execution_count": 60,
   "id": "ed90fa9b",
   "metadata": {},
   "outputs": [],
   "source": [
    "def get_llm_relevance(news_text):\n",
    "    prompt=f\"Is the following news article likely to influence stock markets?If yes,state yes and explain how.\\n\\nArticle:{news_text}\"\n",
    "    response=llm.invoke(prompt)\n",
    "    return response.content.strip()"
   ]
  },
  {
   "cell_type": "code",
   "execution_count": 61,
   "id": "6c91add5",
   "metadata": {},
   "outputs": [],
   "source": [
    "def filter(news_list):\n",
    "    relevent_articles=[]\n",
    "    for article in news_list:\n",
    "        relevance_score=get_llm_relevance(article)\n",
    "        if \"yes\" in relevance_score.lower():\n",
    "            relevent_articles.append(article)\n",
    "    return relevent_articles"
   ]
  },
  {
   "cell_type": "code",
   "execution_count": null,
   "id": "59c897d1",
   "metadata": {},
   "outputs": [],
   "source": []
  }
 ],
 "metadata": {
  "kernelspec": {
   "display_name": "Python (tf-macos)",
   "language": "python",
   "name": "tf-macos"
  },
  "language_info": {
   "codemirror_mode": {
    "name": "ipython",
    "version": 3
   },
   "file_extension": ".py",
   "mimetype": "text/x-python",
   "name": "python",
   "nbconvert_exporter": "python",
   "pygments_lexer": "ipython3",
   "version": "3.9.21"
  }
 },
 "nbformat": 4,
 "nbformat_minor": 5
}
